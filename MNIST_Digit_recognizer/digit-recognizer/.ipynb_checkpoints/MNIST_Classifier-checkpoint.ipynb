{
 "cells": [
  {
   "cell_type": "code",
   "execution_count": 1,
   "metadata": {
    "ExecuteTime": {
     "end_time": "2019-06-06T11:23:51.622630Z",
     "start_time": "2019-06-06T11:23:47.083396Z"
    }
   },
   "outputs": [
    {
     "name": "stderr",
     "output_type": "stream",
     "text": [
      "Using TensorFlow backend.\n"
     ]
    }
   ],
   "source": [
    "import numpy as np\n",
    "import pandas as pd\n",
    "import ssl\n",
    "import csv\n",
    "import copy\n",
    "import matplotlib.pyplot as plt\n",
    "import seaborn as sns\n",
    "%matplotlib inline\n",
    "\n",
    "from sklearn.metrics import roc_auc_score\n",
    "from sklearn.metrics import confusion_matrix,accuracy_score, recall_score, precision_score, f1_score, roc_curve \n",
    "from sklearn.model_selection import train_test_split \n",
    "from sklearn.pipeline import Pipeline\n",
    "\n",
    "from sklearn.svm import LinearSVC, NuSVC\n",
    "from sklearn.naive_bayes import MultinomialNB\n",
    "from sklearn.multiclass import OneVsRestClassifier\n",
    "from sklearn.naive_bayes import GaussianNB\n",
    "from sklearn.svm import SVC\n",
    "\n",
    "import scikitplot as skplt\n",
    "from scipy.special import softmax\n",
    "\n",
    "import keras\n",
    "from keras.models import Sequential\n",
    "from keras.layers import Dense, Conv2D, Flatten, MaxPool2D,MaxPooling2D, Dropout\n",
    "from keras.utils import to_categorical\n",
    "from keras.datasets import mnist\n",
    "\n",
    "\n",
    "ssl._create_default_https_context = ssl._create_unverified_context"
   ]
  },
  {
   "cell_type": "code",
   "execution_count": 2,
   "metadata": {
    "ExecuteTime": {
     "end_time": "2019-06-06T11:23:51.629673Z",
     "start_time": "2019-06-06T11:23:51.624353Z"
    }
   },
   "outputs": [],
   "source": [
    "def data_preprocessing():\n",
    "    \n",
    "    df = pd.read_csv(\"train.csv\")\n",
    "    df = df.values\n",
    "    X = df[:,1:]\n",
    "    Y = df[:,0]\n",
    "    \n",
    "    X_train, X_validation, Y_train, Y_validation = train_test_split(X, Y, test_size = 0.2, random_state = 0)\n",
    "\n",
    "    return X_train, X_validation, Y_train, Y_validation"
   ]
  },
  {
   "cell_type": "code",
   "execution_count": null,
   "metadata": {
    "ExecuteTime": {
     "end_time": "2019-05-02T07:35:20.554060Z",
     "start_time": "2019-05-02T07:28:32.536545Z"
    }
   },
   "outputs": [],
   "source": [
    "X_train, X_validation, Y_train, Y_validation = data_preprocessing()\n",
    "\n",
    "classifier = LinearSVC(penalty=\"l2\",loss=\"squared_hinge\",tol=1,random_state=0,max_iter=9000,C = .8)\n",
    "\n",
    "classifier.fit(X_train, Y_train)\n",
    "predicted = classifier.predict(X_train)"
   ]
  },
  {
   "cell_type": "code",
   "execution_count": null,
   "metadata": {
    "ExecuteTime": {
     "end_time": "2019-05-02T07:35:20.559396Z",
     "start_time": "2019-05-02T07:35:20.556231Z"
    }
   },
   "outputs": [],
   "source": [
    "print(predicted)"
   ]
  },
  {
   "cell_type": "code",
   "execution_count": null,
   "metadata": {
    "ExecuteTime": {
     "end_time": "2019-05-02T07:35:20.573238Z",
     "start_time": "2019-05-02T07:35:20.562143Z"
    }
   },
   "outputs": [],
   "source": [
    "print(accuracy_score(predicted,Y_train))"
   ]
  },
  {
   "cell_type": "code",
   "execution_count": null,
   "metadata": {
    "ExecuteTime": {
     "end_time": "2019-05-02T07:35:20.631829Z",
     "start_time": "2019-05-02T07:35:20.575272Z"
    }
   },
   "outputs": [],
   "source": [
    "print(confusion_matrix(predicted,Y_train))"
   ]
  },
  {
   "cell_type": "code",
   "execution_count": null,
   "metadata": {
    "ExecuteTime": {
     "end_time": "2019-05-02T07:35:20.711090Z",
     "start_time": "2019-05-02T07:35:20.634315Z"
    }
   },
   "outputs": [],
   "source": [
    "val_predicted = classifier.predict(X_validation)\n",
    "print(accuracy_score(val_predicted,Y_validation))\n",
    "print(confusion_matrix(val_predicted,Y_validation))"
   ]
  },
  {
   "cell_type": "code",
   "execution_count": null,
   "metadata": {
    "ExecuteTime": {
     "end_time": "2019-05-02T07:28:08.004861Z",
     "start_time": "2019-05-02T07:28:01.391089Z"
    }
   },
   "outputs": [],
   "source": [
    "\n",
    "X_train, X_validation, Y_train, Y_validation = data_preprocessing()\n",
    "\n",
    "gnb = GaussianNB()\n",
    "gnb.fit(X_train, Y_train) \n",
    "\n",
    "train_predicted = gnb.predict(X_train)\n",
    "validation_predicted = gnb.predict(X_validation) \n",
    "\n",
    "print(\"train accuracy: \",accuracy_score(train_predicted,Y_train))\n",
    "print(confusion_matrix(train_predicted,Y_train))\n",
    "print(\"Validation accuracy: \",accuracy_score(validation_predicted,Y_validation))\n",
    "print(confusion_matrix(validation_predicted,Y_validation)) "
   ]
  },
  {
   "cell_type": "code",
   "execution_count": null,
   "metadata": {
    "ExecuteTime": {
     "start_time": "2019-05-02T10:02:05.636Z"
    }
   },
   "outputs": [],
   "source": [
    "X_train, X_validation, Y_train, Y_validation = data_preprocessing()\n",
    "\n",
    "X_train = X_train/255\n",
    "X_validation = X_validation/255\n",
    "\n",
    "clf = SVC(kernel='poly',degree=3)\n",
    "clf.fit(X_train, Y_train)\n",
    "\n",
    "train_predicted = clf.predict(X_train)\n",
    "validation_predicted = clf.predict(X_validation) \n",
    "\n",
    "print(\"train accuracy: \",accuracy_score(train_predicted,Y_train))\n",
    "print(confusion_matrix(train_predicted,Y_train))\n",
    "print(\"Validation accuracy: \",accuracy_score(validation_predicted,Y_validation))\n",
    "print(confusion_matrix(validation_predicted,Y_validation))"
   ]
  },
  {
   "cell_type": "code",
   "execution_count": null,
   "metadata": {
    "ExecuteTime": {
     "start_time": "2019-05-02T10:02:06.242Z"
    }
   },
   "outputs": [],
   "source": [
    "test_df = pd.read_csv(\"test.csv\")\n",
    "X_test = test_df.values\n",
    "X_test = X_test/255\n",
    "test_predicted = clf.predict(X_test)\n",
    "np.savetxt(\"submission.csv\", test_predicted, delimiter=\",\")"
   ]
  },
  {
   "cell_type": "markdown",
   "metadata": {},
   "source": [
    "## CNN For Digit classification"
   ]
  },
  {
   "cell_type": "code",
   "execution_count": 3,
   "metadata": {
    "ExecuteTime": {
     "end_time": "2019-06-06T11:24:00.886328Z",
     "start_time": "2019-06-06T11:24:00.498430Z"
    }
   },
   "outputs": [],
   "source": [
    "global X_train, y_train, X_test, y_test\n",
    "(X_train, y_train), (X_test, y_test) = mnist.load_data()"
   ]
  },
  {
   "cell_type": "code",
   "execution_count": 4,
   "metadata": {
    "ExecuteTime": {
     "end_time": "2019-06-06T11:24:01.267341Z",
     "start_time": "2019-06-06T11:24:01.021099Z"
    }
   },
   "outputs": [
    {
     "data": {
      "text/plain": [
       "<matplotlib.image.AxesImage at 0x7f6e339632e8>"
      ]
     },
     "execution_count": 4,
     "metadata": {},
     "output_type": "execute_result"
    },
    {
     "data": {
      "image/png": "[encoded data removed]",
      "text/plain": [
       "<Figure size 432x288 with 1 Axes>"
      ]
     },
     "metadata": {},
     "output_type": "display_data"
    }
   ],
   "source": [
    "plt.imshow(X_train[0])"
   ]
  },
  {
   "cell_type": "code",
   "execution_count": 5,
   "metadata": {
    "ExecuteTime": {
     "end_time": "2019-06-06T11:24:01.854804Z",
     "start_time": "2019-06-06T11:24:01.847201Z"
    }
   },
   "outputs": [
    {
     "name": "stdout",
     "output_type": "stream",
     "text": [
      "(60000, 28, 28)\n",
      "(10000, 28, 28)\n"
     ]
    }
   ],
   "source": [
    "print(X_train.shape)\n",
    "print(X_test.shape)"
   ]
  },
  {
   "cell_type": "code",
   "execution_count": 6,
   "metadata": {
    "ExecuteTime": {
     "end_time": "2019-06-06T11:24:02.668555Z",
     "start_time": "2019-06-06T11:24:02.537285Z"
    }
   },
   "outputs": [],
   "source": [
    "X_train = X_train.reshape(60000,28,28,1)\n",
    "X_test = X_test.reshape(10000,28,28,1)\n",
    "\n",
    "X_train = X_train.astype('float32')\n",
    "X_test = X_test.astype('float32')\n",
    "X_train /= 255\n",
    "X_test /= 255"
   ]
  },
  {
   "cell_type": "code",
   "execution_count": 7,
   "metadata": {
    "ExecuteTime": {
     "end_time": "2019-06-06T11:24:03.236244Z",
     "start_time": "2019-06-06T11:24:03.228412Z"
    }
   },
   "outputs": [
    {
     "name": "stdout",
     "output_type": "stream",
     "text": [
      "(60000, 28, 28, 1)\n",
      "(10000, 28, 28, 1)\n"
     ]
    }
   ],
   "source": [
    "print(X_train.shape)\n",
    "print(X_test.shape)"
   ]
  },
  {
   "cell_type": "code",
   "execution_count": 8,
   "metadata": {
    "ExecuteTime": {
     "end_time": "2019-06-06T11:24:07.076510Z",
     "start_time": "2019-06-06T11:24:03.924413Z"
    }
   },
   "outputs": [
    {
     "name": "stdout",
     "output_type": "stream",
     "text": [
      "(33600, 784)\n",
      "(8400, 784)\n"
     ]
    }
   ],
   "source": [
    "x_train, x_validation, Y_train, Y_validation = data_preprocessing()\n",
    "print(x_train.shape)\n",
    "print(x_validation.shape)"
   ]
  },
  {
   "cell_type": "code",
   "execution_count": 9,
   "metadata": {
    "ExecuteTime": {
     "end_time": "2019-06-06T11:24:07.168263Z",
     "start_time": "2019-06-06T11:24:07.078169Z"
    }
   },
   "outputs": [],
   "source": [
    "x_train = x_train.reshape(33600,28,28,1)\n",
    "x_validation = x_validation.reshape(8400,28,28,1)\n",
    "x_train = x_train.astype('float32')\n",
    "x_validation = x_validation.astype('float32')\n",
    "x_train /= 255\n",
    "x_validation /= 255"
   ]
  },
  {
   "cell_type": "code",
   "execution_count": 10,
   "metadata": {
    "ExecuteTime": {
     "end_time": "2019-06-06T11:24:07.173978Z",
     "start_time": "2019-06-06T11:24:07.171106Z"
    }
   },
   "outputs": [
    {
     "name": "stdout",
     "output_type": "stream",
     "text": [
      "(33600, 28, 28, 1)\n",
      "(8400, 28, 28, 1)\n"
     ]
    }
   ],
   "source": [
    "print(x_train.shape)\n",
    "print(x_validation.shape)"
   ]
  },
  {
   "cell_type": "code",
   "execution_count": 11,
   "metadata": {
    "ExecuteTime": {
     "end_time": "2019-06-06T11:24:07.200310Z",
     "start_time": "2019-06-06T11:24:07.175599Z"
    }
   },
   "outputs": [
    {
     "name": "stdout",
     "output_type": "stream",
     "text": [
      "(60000,)\n",
      "(10000,)\n",
      "(8400,)\n"
     ]
    }
   ],
   "source": [
    "print(y_train.shape)\n",
    "print(y_test.shape)\n",
    "print(Y_validation.shape)"
   ]
  },
  {
   "cell_type": "code",
   "execution_count": 12,
   "metadata": {
    "ExecuteTime": {
     "end_time": "2019-06-06T11:24:07.212287Z",
     "start_time": "2019-06-06T11:24:07.203099Z"
    }
   },
   "outputs": [],
   "source": [
    "y_train = to_categorical(y_train)\n",
    "y_test = to_categorical(y_test)\n",
    "Y_validation = to_categorical(Y_validation)"
   ]
  },
  {
   "cell_type": "code",
   "execution_count": 13,
   "metadata": {
    "ExecuteTime": {
     "end_time": "2019-06-06T11:24:08.013836Z",
     "start_time": "2019-06-06T11:24:08.011921Z"
    }
   },
   "outputs": [],
   "source": [
    "# print(y_train)\n",
    "# print(y_test)\n",
    "# print(Y_validation)"
   ]
  },
  {
   "cell_type": "code",
   "execution_count": 20,
   "metadata": {
    "ExecuteTime": {
     "end_time": "2019-06-06T12:43:01.318015Z",
     "start_time": "2019-06-06T12:21:11.906931Z"
    }
   },
   "outputs": [
    {
     "name": "stdout",
     "output_type": "stream",
     "text": [
      "Train on 60000 samples, validate on 10000 samples\n",
      "Epoch 1/10\n",
      "60000/60000 [==============================] - 108s 2ms/step - loss: 0.2228 - acc: 0.9304 - val_loss: 0.0481 - val_acc: 0.9849\n",
      "Epoch 2/10\n",
      "60000/60000 [==============================] - 137s 2ms/step - loss: 0.0627 - acc: 0.9807 - val_loss: 0.0349 - val_acc: 0.9879\n",
      "Epoch 3/10\n",
      "60000/60000 [==============================] - 155s 3ms/step - loss: 0.0442 - acc: 0.9860 - val_loss: 0.0356 - val_acc: 0.9885\n",
      "Epoch 4/10\n",
      "60000/60000 [==============================] - 162s 3ms/step - loss: 0.0342 - acc: 0.9896 - val_loss: 0.0320 - val_acc: 0.9891\n",
      "Epoch 5/10\n",
      "60000/60000 [==============================] - 147s 2ms/step - loss: 0.0287 - acc: 0.9910 - val_loss: 0.0302 - val_acc: 0.9903\n",
      "Epoch 6/10\n",
      "60000/60000 [==============================] - 120s 2ms/step - loss: 0.0245 - acc: 0.9919 - val_loss: 0.0276 - val_acc: 0.9912\n",
      "Epoch 7/10\n",
      "60000/60000 [==============================] - 113s 2ms/step - loss: 0.0209 - acc: 0.9931 - val_loss: 0.0313 - val_acc: 0.9898\n",
      "Epoch 8/10\n",
      "60000/60000 [==============================] - 124s 2ms/step - loss: 0.0173 - acc: 0.9941 - val_loss: 0.0297 - val_acc: 0.9904\n",
      "Epoch 9/10\n",
      "60000/60000 [==============================] - 120s 2ms/step - loss: 0.0146 - acc: 0.9953 - val_loss: 0.0293 - val_acc: 0.9913\n",
      "Epoch 10/10\n",
      "60000/60000 [==============================] - 117s 2ms/step - loss: 0.0132 - acc: 0.9955 - val_loss: 0.0282 - val_acc: 0.9916\n",
      "Test loss: 0.028192376120423433\n",
      "Test accuracy: 0.9916\n"
     ]
    }
   ],
   "source": [
    "\n",
    "# model = Sequential()\n",
    "# model.add(Conv2D(128, kernel_size=(5, 5),activation='relu',input_shape=(28,28,1)))\n",
    "# model.add(MaxPooling2D(pool_size=(2, 2)))\n",
    "# model.add(Conv2D(64, (5, 5), activation='relu'))\n",
    "# model.add(MaxPooling2D(pool_size=(2, 2)))\n",
    "# model.add(Flatten())\n",
    "# model.add(Dense(10, activation='softmax'))\n",
    "\n",
    "# model.compile(optimizer='rmsprop', loss='categorical_crossentropy', metrics=['accuracy'])\n",
    "\n",
    "# model.fit(X_train, y_train, validation_data=(X_test, y_test), epochs=3)\n",
    "\n",
    "input_shape = (28,28,1)\n",
    "num_category = 10\n",
    "##model building\n",
    "model = Sequential()\n",
    "#convolutional layer with rectified linear unit activation\n",
    "model.add(Conv2D(32, kernel_size=(3, 3),activation='relu',input_shape=input_shape))\n",
    "#32 convolution filters used each of size 3x3\n",
    "model.add(Conv2D(64, (3, 3), activation='relu'))\n",
    "#64 convolution filters used each of size 3x3\n",
    "#choose the best features via pooling\n",
    "model.add(MaxPooling2D(pool_size=(2, 2)))\n",
    "#randomly turn neurons on and off to improve convergence\n",
    "model.add(Dropout(0.15))\n",
    "#flatten since too many dimensions, we only want a classification output\n",
    "model.add(Flatten())\n",
    "#fully connected to get all relevant data\n",
    "model.add(Dense(128, activation='relu'))\n",
    "#one more dropout for convergence' sake :) \n",
    "model.add(Dropout(0.3))\n",
    "#output a softmax to squash the matrix into output probabilities\n",
    "model.add(Dense(num_category, activation='softmax'))\n",
    "\n",
    "\n",
    "#Adaptive learning rate (adaDelta) is a popular form of gradient descent rivaled only by adam and adagrad\n",
    "#categorical ce since we have multiple classes (10) \n",
    "model.compile(loss=keras.losses.categorical_crossentropy,\n",
    "              optimizer=keras.optimizers.Adadelta(),\n",
    "              metrics=['accuracy'])\n",
    "\n",
    "batch_size = 128\n",
    "num_epoch = 10\n",
    "#model training\n",
    "model_log = model.fit(X_train, y_train,\n",
    "          batch_size=batch_size,\n",
    "          epochs=num_epoch,\n",
    "          verbose=1,\n",
    "          validation_data=(X_test, y_test))\n",
    "\n",
    "score = model.evaluate(X_test, y_test, verbose=0)\n",
    "print('Test loss:', score[0])\n",
    "print('Test accuracy:', score[1]) "
   ]
  },
  {
   "cell_type": "code",
   "execution_count": 21,
   "metadata": {
    "ExecuteTime": {
     "end_time": "2019-06-06T12:43:42.662976Z",
     "start_time": "2019-06-06T12:43:32.303305Z"
    }
   },
   "outputs": [],
   "source": [
    "test_df = pd.read_csv(\"test.csv\")\n",
    "x_test = test_df.values\n",
    "x_test = x_test.reshape(28000,28,28,1)\n",
    "x_test = x_test.astype('float32')\n",
    "x_test = x_test/255\n",
    "y_predicted = model.predict(x_test)"
   ]
  },
  {
   "cell_type": "code",
   "execution_count": 22,
   "metadata": {
    "ExecuteTime": {
     "end_time": "2019-06-06T12:43:42.765351Z",
     "start_time": "2019-06-06T12:43:42.666933Z"
    }
   },
   "outputs": [
    {
     "name": "stdout",
     "output_type": "stream",
     "text": [
      "[[9.4373856e-14 3.9181635e-12 1.0000000e+00 ... 7.0072195e-12\n",
      "  1.1708777e-10 8.9177363e-14]\n",
      " [9.9999392e-01 4.9400062e-10 1.2578852e-09 ... 3.4231495e-09\n",
      "  5.7946155e-11 1.5854339e-09]\n",
      " [7.1659560e-11 2.1911960e-10 8.7189935e-09 ... 4.2188219e-08\n",
      "  3.8040532e-06 9.9999440e-01]\n",
      " ...\n",
      " [4.2139449e-17 2.0267631e-15 5.0489400e-16 ... 3.4778929e-13\n",
      "  1.5765567e-13 5.7867179e-12]\n",
      " [2.0386765e-11 3.0775762e-09 4.4281942e-13 ... 2.4851213e-08\n",
      "  9.3647257e-10 9.9999952e-01]\n",
      " [1.0743019e-14 7.7114525e-13 1.0000000e+00 ... 2.7603766e-12\n",
      "  1.8884442e-08 6.9860038e-15]]\n",
      "[2 0 9 ... 3 9 2]\n"
     ]
    }
   ],
   "source": [
    "print(y_predicted)\n",
    "y_p = np.argmax(y_predicted, axis=1)\n",
    "print(y_p)\n",
    "np.savetxt(\"cnn_submission.csv\", y_p, delimiter=\",\")\n",
    "# print(Y_validation)"
   ]
  },
  {
   "cell_type": "code",
   "execution_count": null,
   "metadata": {
    "ExecuteTime": {
     "end_time": "2019-05-11T09:41:23.896285Z",
     "start_time": "2019-05-11T09:41:23.866395Z"
    }
   },
   "outputs": [],
   "source": [
    "print(Y_validation.shape)\n",
    "print(y_predicted.shape)\n",
    "y_predicted = np.argmax(y_predicted, axis=1)\n",
    "Y_validation = np.argmax(Y_validation, axis=1)\n",
    "print(list(y_predicted[:1]))\n",
    "print(list(Y_validation[:1]))\n",
    "print(\"Validation accuracy: \",accuracy_score(y_predicted,Y_validation))\n",
    "print(confusion_matrix(y_predicted,Y_validation))\n",
    "\n",
    "# print(\"train accuracy: \",accuracy_score(train_predicted,Y_train))\n",
    "# print(confusion_matrix(train_predicted,Y_train))\n",
    "# print(\"Validation accuracy: \",accuracy_score(validation_predicted,Y_validation))\n",
    "# print(confusion_matrix(validation_predicted,Y_validation))"
   ]
  },
  {
   "cell_type": "code",
   "execution_count": null,
   "metadata": {},
   "outputs": [],
   "source": []
  }
 ],
 "metadata": {
  "celltoolbar": "Tags",
  "kernelspec": {
   "display_name": "Python 3",
   "language": "python",
   "name": "python3"
  },
  "language_info": {
   "codemirror_mode": {
    "name": "ipython",
    "version": 3
   },
   "file_extension": ".py",
   "mimetype": "text/x-python",
   "name": "python",
   "nbconvert_exporter": "python",
   "pygments_lexer": "ipython3",
   "version": "3.6.7"
  }
 },
 "nbformat": 4,
 "nbformat_minor": 2
}
